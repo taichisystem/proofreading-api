{
 "cells": [
  {
   "cell_type": "markdown",
   "id": "98345e3e",
   "metadata": {},
   "source": [
    "### pipのupgrade・sagemaker等の処理"
   ]
  },
  {
   "cell_type": "code",
   "execution_count": null,
   "id": "1e4a9c17",
   "metadata": {},
   "outputs": [],
   "source": [
    "!python -m pip install --upgrade pip"
   ]
  },
  {
   "cell_type": "code",
   "execution_count": null,
   "id": "b1067fd7",
   "metadata": {},
   "outputs": [],
   "source": [
    "!pip install -U sagemaker"
   ]
  },
  {
   "cell_type": "markdown",
   "id": "9d9ec0e8",
   "metadata": {},
   "source": [
    "### HuggingFaceModel、推論(predictor)モデルのデプロイ"
   ]
  },
  {
   "cell_type": "code",
   "execution_count": null,
   "id": "83968a6d",
   "metadata": {},
   "outputs": [],
   "source": [
    "import sagemaker\n",
    "from sagemaker.huggingface.model import HuggingFaceModel"
   ]
  },
  {
   "cell_type": "code",
   "execution_count": null,
   "id": "74faafc2",
   "metadata": {},
   "outputs": [],
   "source": [
    "role = sagemaker.get_execution_role()\n",
    "\n",
    "huggingface_model = HuggingFaceModel(\n",
    "   model_data='s3://bert-api-test/model.tar.gz',\n",
    "   role=role,\n",
    "   transformers_version=\"4.17\",\n",
    "   pytorch_version=\"1.10\",\n",
    "   py_version='py38'\n",
    ")\n",
    "\n",
    "predictor = huggingface_model.deploy(\n",
    "    initial_instance_count=1,\n",
    "    instance_type=\"ml.g4dn.xlarge\"\n",
    "    )"
   ]
  },
  {
   "cell_type": "markdown",
   "id": "17ae6c55",
   "metadata": {},
   "source": [
    "### 文章を校正する"
   ]
  },
  {
   "cell_type": "code",
   "execution_count": null,
   "id": "29fb7c25",
   "metadata": {},
   "outputs": [],
   "source": [
    "#data = {\n",
    "#‘inputs’ : “予測したい文章入力”\n",
    "#}　\n",
    "#predictor.predict(data)で予測する\n",
    "\n",
    "data = {\n",
    "  'inputs': \"私野名前は、佐藤です。\",\n",
    "}\n",
    "\n",
    "res = predictor.predict(data)\n",
    "print(res)\n",
    "\n",
    "#出力:\"私の名前は、佐藤です。\""
   ]
  },
  {
   "cell_type": "markdown",
   "id": "b7bb5ab6",
   "metadata": {},
   "source": [
    "### 使用時以外は、エンドポイントを削除する"
   ]
  },
  {
   "cell_type": "code",
   "execution_count": null,
   "id": "0174d68e",
   "metadata": {},
   "outputs": [],
   "source": [
    "# delete endpoint\n",
    "predictor.delete_endpoint()"
   ]
  }
 ],
 "metadata": {
  "kernelspec": {
   "display_name": "Python 3",
   "language": "python",
   "name": "python3"
  },
  "language_info": {
   "codemirror_mode": {
    "name": "ipython",
    "version": 3
   },
   "file_extension": ".py",
   "mimetype": "text/x-python",
   "name": "python",
   "nbconvert_exporter": "python",
   "pygments_lexer": "ipython3",
   "version": "3.8.8"
  }
 },
 "nbformat": 4,
 "nbformat_minor": 5
}
