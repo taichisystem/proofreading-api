!python -m pip install --upgrade pip

!pip install -U sagemaker

import sagemaker
from sagemaker.huggingface.model import HuggingFaceModel

role = sagemaker.get_execution_role()

huggingface_model = HuggingFaceModel(
   model_data='s3://bert-api-test/model.tar.gz',
   role=role,
   transformers_version="4.17",
   pytorch_version="1.10",
   py_version='py38'
)

predictor = huggingface_model.deploy(
    initial_instance_count=1,
    instance_type="ml.g4dn.xlarge"
    )

import boto3
import json

client = boto3.client('sagemaker-runtime')

# Query and number of results.
data = {
    'inputs': "私野名前は、佐藤です"
}

# Request.
response = client.invoke_endpoint(
    EndpointName='huggingface-pytorch-inference-2022-06-27-01-55-33-285', 
    ContentType='application/json',
    Accept='application/json',
    Body=json.dumps(data, ensure_ascii=False)
    )

result = json.loads(response["Body"].read().decode())
print(result)

data = {
  'inputs': "私野名前は、山本です。",
}

res = predictor.predict(data)
print(res)

# delete endpoint
predictor.delete_endpoint()
